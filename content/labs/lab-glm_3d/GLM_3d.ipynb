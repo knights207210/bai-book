{
 "cells": [
  {
   "cell_type": "markdown",
   "metadata": {},
   "source": [
    "# Single Subject GLM Analysis using the Localizer dataset\n",
    "\n",
    "In this lab, extend your work from the previous lab to work with 3D brain data. The preprocessed data of the first subject in the localizer study is included."
   ]
  },
  {
   "cell_type": "code",
   "execution_count": 2,
   "metadata": {},
   "outputs": [],
   "source": [
    "import os\n",
    "import numpy as np\n",
    "\n",
    "%matplotlib inline\n",
    "import matplotlib.pyplot as plt\n",
    "\n",
    "import nibabel as nib\n",
    "import sys\n",
    "sys.path.insert(0, './src')\n",
    "import load_data\n",
    "import design_matrix\n",
    "import estimate_beta\n",
    "import contrast\n",
    "import visualization\n",
    "import clusters\n",
    "from ipywidgets import interact, interactive, fixed, interact_manual\n",
    "import ipywidgets as widgets\n",
    "import scipy.ndimage"
   ]
  },
  {
   "cell_type": "markdown",
   "metadata": {},
   "source": [
    "Load data and mask."
   ]
  },
  {
   "cell_type": "code",
   "execution_count": 3,
   "metadata": {},
   "outputs": [],
   "source": [
    "data, mask = load_data.load_data('preprocessed_fMRI_bold.nii.gz','sub-S01_mask.nii.gz')"
   ]
  },
  {
   "cell_type": "markdown",
   "metadata": {},
   "source": [
    "Design matrix."
   ]
  },
  {
   "cell_type": "code",
   "execution_count": 4,
   "metadata": {},
   "outputs": [],
   "source": [
    "events, labels = design_matrix.get_localizer_design_data()\n",
    "dm = design_matrix.create_design_matrix(events, labels, 2.4, 128)\n",
    "funcs = [\n",
    "    lambda dm : design_matrix.convolve_hrf(dm, 2),\n",
    "    lambda dm : design_matrix.add_intercept(dm),\n",
    "    lambda dm : design_matrix.add_poly(dm, degrees = 2),\n",
    "    lambda dm : design_matrix.add_poly(dm, degrees = 3),\n",
    "    lambda dm : design_matrix.add_poly(dm, degrees = 2, flipped = True),\n",
    "    lambda dm : design_matrix.add_poly(dm, degrees = 3, flipped = True),  \n",
    "    lambda dm : design_matrix.add_cosine(dm, 1, 1),\n",
    "    lambda dm : design_matrix.add_cosine(dm, 2, 1),    \n",
    "    lambda dm : design_matrix.add_cosine(dm, 3, 1),        \n",
    "]\n",
    "\n",
    "dm = design_matrix.add_many(dm, funcs)"
   ]
  },
  {
   "cell_type": "markdown",
   "metadata": {},
   "source": [
    "Esitmate beta."
   ]
  },
  {
   "cell_type": "code",
   "execution_count": 5,
   "metadata": {},
   "outputs": [],
   "source": [
    "bm = estimate_beta.compute_beta_map(data, dm.values)"
   ]
  },
  {
   "cell_type": "markdown",
   "metadata": {},
   "source": [
    "Generate Contrast"
   ]
  },
  {
   "cell_type": "code",
   "execution_count": 6,
   "metadata": {},
   "outputs": [],
   "source": [
    "ct = contrast.generateContrast(dm, 'motor', 'sentence+subtraction')\n",
    "cs = contrast.compute_contrast(bm, ct)\n",
    "masked_contrast = visualization.getMaskedContrast(cs, mask.get_fdata(),0.1)\n",
    "masked_forvis = visualization.getMasked(cs, mask.get_fdata(),0.1)"
   ]
  },
  {
   "cell_type": "markdown",
   "metadata": {},
   "source": [
    "Visualize Contrast"
   ]
  },
  {
   "cell_type": "code",
   "execution_count": 7,
   "metadata": {},
   "outputs": [
    {
     "name": "stdout",
     "output_type": "stream",
     "text": [
      "26 56 5\n"
     ]
    },
    {
     "data": {
      "application/vnd.jupyter.widget-view+json": {
       "model_id": "94c39ee0bec445a28dde5a2a7d1e8225",
       "version_major": 2,
       "version_minor": 0
      },
      "text/plain": [
       "interactive(children=(IntSlider(value=26, description='x', max=53), IntSlider(value=56, description='y', max=6…"
      ]
     },
     "metadata": {},
     "output_type": "display_data"
    }
   ],
   "source": [
    "xm,ym,zm= visualization.find_most_active_slices_xyz(masked_contrast)\n",
    "print(xm,ym,zm)\n",
    "@interact(x=(0,data.get_fdata().shape[0]), y=(0,data.get_fdata().shape[1]), z=(0,data.get_fdata().shape[2]))\n",
    "def interact_with_voxels(x=xm, y=ym, z=zm):\n",
    "    visualization.visualiza_contrast_withLocation_Interactive(masked_forvis, x,y,z)"
   ]
  },
  {
   "cell_type": "markdown",
   "metadata": {},
   "source": [
    "Convolve with Gassuian Filter"
   ]
  },
  {
   "cell_type": "code",
   "execution_count": 8,
   "metadata": {},
   "outputs": [
    {
     "name": "stdout",
     "output_type": "stream",
     "text": [
      "26 56 5\n"
     ]
    },
    {
     "data": {
      "application/vnd.jupyter.widget-view+json": {
       "model_id": "a77750b46f714b2fa92d1107b69340d2",
       "version_major": 2,
       "version_minor": 0
      },
      "text/plain": [
       "interactive(children=(IntSlider(value=26, description='x', max=53), IntSlider(value=56, description='y', max=6…"
      ]
     },
     "metadata": {},
     "output_type": "display_data"
    }
   ],
   "source": [
    "ct_cluster = masked_contrast\n",
    "ct_cluster = clusters.convolveFilter(ct_cluster, 0.2)\n",
    "ct_clusterforvis = masked_forvis\n",
    "ct_clusterforvis = clusters.convolveFilter(ct_clusterforvis, 0.2)\n",
    "\n",
    "xm,ym,zm= visualization.find_most_active_slices_xyz(ct_cluster)\n",
    "print(xm,ym,zm)\n",
    "@interact(x=(0,data.get_fdata().shape[0]), y=(0,data.get_fdata().shape[1]), z=(0,data.get_fdata().shape[2]))\n",
    "def interact_with_voxels(x=xm, y=ym, z=zm):\n",
    "    visualization.visualiza_contrast_withLocation_Interactive(ct_clusterforvis, x,y,z)"
   ]
  },
  {
   "cell_type": "markdown",
   "metadata": {},
   "source": [
    "Find Clusters and Centers"
   ]
  },
  {
   "cell_type": "code",
   "execution_count": 9,
   "metadata": {},
   "outputs": [
    {
     "name": "stdout",
     "output_type": "stream",
     "text": [
      "39 [(nan, nan, nan), (10.364466607385289, 20.602787345327858, 13.778330706211431), (8.806123704241829, 24.79876267028007, 32.60489478872541), (10.007844749899185, 50.32272533391457, 15.687742532246597), (10.597506887038351, 33.571779945128505, 19.542767284589132), (10.000000000000002, 43.32349015528426, 31.655836231383418), (25.38006013244358, 30.82691052892176, 10.470500589088616), (14.587996896281652, 55.02817838003409, 4.555175518357329), (15.116977126767976, 41.934600404896905, 36.848254491547564), (13.999999999999995, 12.999999999999991, 11.999999999999993), (14.317567053934411, 44.16219904840007, 30.16324099922387), (15.0, 26.999999999999993, 7.0), (17.272729417122292, 22.867345477845884, 23.2227795120316), (18.501907876734467, 3.4980921232655273, 14.501907876734467), (28.007624025506313, 9.009947493370351, 11.633960668793204), (18.0, 8.0, 26.000000000000007), (21.86381106208617, 57.544144646688366, 13.780410394608834), (19.50372133331208, 57.999999999999986, 25.000000000000004), (20.000000000000004, 22.000000000000004, 3.0000000000000018), (23.50426832158388, 52.13314440064746, 34.39363094803551), (23.009324679712943, 39.73844671760913, 32.69551661787333), (26.133648144750396, 18.253570397576855, 40.09572910249278), (23.00000000000001, 28.000000000000025, 42.00000000000002), (23.000000000000007, 54.99999999999999, 27.999999999999996), (22.999999999999996, 56.000000000000036, 18.000000000000007), (28.010304891739924, 41.282897952616366, 35.61726230101415), (34.133365991233845, 7.847594503539225, 28.998953641620634), (33.83568800374129, 15.37033190510462, 35.7656508149998), (34.2163558888337, 22.71284942118191, 22.08266222520879), (37.94595202114291, 55.977209410454925, 5.57268428228649), (41.53229504573114, 31.41147277095326, 34.042979526701615), (37.00000000000001, 37.00000000000001, 33.00000000000001), (38.52978049181078, 41.0, 0.47022148248266155), (38.76841383936496, 49.24074171250014, 28.72420315475515), (38.99999999999999, 21.000000000000007, 34.0), (39.000000000000014, 42.00000000000002, 35.000000000000014), (41.107474076611204, 37.754358236400336, 9.267560736832397), (41.00000000000001, 9.945328992899732, 27.4179934893496), (42.20139046291837, 41.99262388376009, 31.18820132754882)]\n"
     ]
    },
    {
     "name": "stderr",
     "output_type": "stream",
     "text": [
      "/Users/hanxu/miniconda3/lib/python3.6/site-packages/scipy/ndimage/measurements.py:1359: RuntimeWarning: invalid value encountered in true_divide\n",
      "  for dir in range(input.ndim)]\n"
     ]
    }
   ],
   "source": [
    "ct_clustered, num_clusters = clusters.label_clusters(ct_cluster)\n",
    "centers = scipy.ndimage.measurements.center_of_mass(ct_cluster, ct_clustered, np.arange(num_clusters))\n",
    "\n",
    "print(num_clusters, centers)\n"
   ]
  },
  {
   "cell_type": "code",
   "execution_count": 20,
   "metadata": {},
   "outputs": [
    {
     "data": {
      "application/vnd.jupyter.widget-view+json": {
       "model_id": "af6c4f1120f547b0b558c58e63d42c0f",
       "version_major": 2,
       "version_minor": 0
      },
      "text/plain": [
       "interactive(children=(IntSlider(value=2, description='c', max=38), Output()), _dom_classes=('widget-interact',…"
      ]
     },
     "metadata": {},
     "output_type": "display_data"
    }
   ],
   "source": [
    "@interact(c=(0,len(centers)-1))\n",
    "def clustersVis(c=2):\n",
    "    datavis = clusters.get_clusterforvis(ct_clusterforvis, ct_clustered, c)\n",
    "    @interact(x=(0,data.get_fdata().shape[0]), y=(0,data.get_fdata().shape[1]), z=(0,data.get_fdata().shape[2]))\n",
    "    def plot_clusters(x= 10, y =21, z =14):\n",
    "        visualization.visualiza_contrast_withLocation_Interactive(datavis, x,y,z)"
   ]
  },
  {
   "cell_type": "code",
   "execution_count": null,
   "metadata": {},
   "outputs": [],
   "source": []
  }
 ],
 "metadata": {
  "kernelspec": {
   "display_name": "Python 3",
   "language": "python",
   "name": "python3"
  },
  "language_info": {
   "codemirror_mode": {
    "name": "ipython",
    "version": 3
   },
   "file_extension": ".py",
   "mimetype": "text/x-python",
   "name": "python",
   "nbconvert_exporter": "python",
   "pygments_lexer": "ipython3",
   "version": "3.6.7"
  },
  "toc": {
   "base_numbering": 1,
   "nav_menu": {},
   "number_sections": true,
   "sideBar": true,
   "skip_h1_title": false,
   "title_cell": "Table of Contents",
   "title_sidebar": "Contents",
   "toc_cell": false,
   "toc_position": {},
   "toc_section_display": true,
   "toc_window_display": false
  }
 },
 "nbformat": 4,
 "nbformat_minor": 2
}
