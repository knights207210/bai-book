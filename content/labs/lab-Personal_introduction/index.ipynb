{
 "cells": [
  {
   "cell_type": "markdown",
   "metadata": {},
   "source": [
    "# Lab - About Me"
   ]
  },
  {
   "cell_type": "markdown",
   "metadata": {},
   "source": [
    "## Tasks\n",
    "\n",
    "* [ ] Modify the personal introduction text.\n",
    "* [ ] Add text to My Background\n",
    "* [ ] Add an image to My Vacation\n",
    "* [ ] Add multiple images to My Favorite Dishes"
   ]
  },
  {
   "cell_type": "code",
   "execution_count": 1,
   "metadata": {},
   "outputs": [
    {
     "data": {
      "text/markdown": [
       "Hi! My name is __Xu Han__. I am currently pursuing __a PhD in Computer Science__."
      ],
      "text/plain": [
       "<IPython.core.display.Markdown object>"
      ]
     },
     "execution_count": 1,
     "metadata": {},
     "output_type": "execute_result"
    }
   ],
   "source": [
    "from IPython.display import Markdown as md\n",
    "\n",
    "# TODO: modify variables \n",
    "name = 'Xu Han'\n",
    "degree = 'a PhD in Computer Science'\n",
    "md(f'Hi! My name is __{name}__. I am currently pursuing __{degree}__.')"
   ]
  },
  {
   "cell_type": "markdown",
   "metadata": {},
   "source": [
    "## My Learning Objectives\n",
    "\n",
    "I am taking this course with the following objectives:\n",
    "* Get started in Neuroscience field;\n",
    "* Explore research directions in the intersections of AI and neuroscience;\n",
    "* Supplement what I've learnt in fNIRS data analysis."
   ]
  },
  {
   "cell_type": "markdown",
   "metadata": {},
   "source": [
    "## My Background\n",
    "\n",
    "### Machine Learning\n",
    "I've been in machine learning field for more than three years. My very first project using machine learning techniques was about fatigue detection. During that project, I got to know multiple machine learning algorithms for the first time, where I discovered my research interest in deploying AI to build creative staff. After I entered graduate school, the machine learning, data mining and deep learning courses I took greatly helped me construct much wider knowledge specturm of morden AI techniques. Right now, my research interest specifically focuses on conversational agents. In this area, AI techniques, especially machine learning, are of great help for me to realize my idea and build functional prototypes. The deeper I explored in my research field, the more experienced I became in AI. \n",
    "### Neuroimaging\n",
    "Right now, I don't have much experience in neuroimage. I have only been to analyzing fNIRS data from several months ago. However, during these months, I got some basic knowledge about neuroimaging and lucky to have access to real-world fNIRS data. To analyze them, I explored several toolboxs including NirsLab, Nirs Toolbox, fNIRS-SPM to generate some rough processed results. Through this course, I hope to get deeper in this field and build a more robust data processing pipeline. "
   ]
  },
  {
   "cell_type": "markdown",
   "metadata": {},
   "source": [
    "## My Vacation"
   ]
  },
  {
   "cell_type": "markdown",
   "metadata": {},
   "source": [
    "TODO: add markdown code to load a recent vacation photo of yours.\n",
    "![](yellowstone.jpg)"
   ]
  },
  {
   "cell_type": "markdown",
   "metadata": {},
   "source": [
    "This is my first trip after I came the U.S. \n",
    "\n",
    "My friend and I took this picture at YellowStone National Park. Loved the snowy mountain and wildlife there. "
   ]
  },
  {
   "cell_type": "markdown",
   "metadata": {},
   "source": [
    "## My Favorite Dishes"
   ]
  },
  {
   "cell_type": "code",
   "execution_count": 7,
   "metadata": {
    "scrolled": false
   },
   "outputs": [
    {
     "data": {
      "text/markdown": [
       "![image](hotpot.jpeg)![image](roastedduck.jpg)![image](shanxinoodles.jpg)"
      ],
      "text/plain": [
       "<IPython.core.display.Markdown object>"
      ]
     },
     "execution_count": 7,
     "metadata": {},
     "output_type": "execute_result"
    }
   ],
   "source": [
    "# TOOD: modify the code to display three images that represent your favorite dishes\n",
    "markdowntext = ''\n",
    "for filename in ['hotpot.jpeg','roastedduck.jpg','shanxinoodles.jpg']:\n",
    "    markdowntext += f'![image]({filename})'\n",
    "md(markdowntext)"
   ]
  },
  {
   "cell_type": "code",
   "execution_count": null,
   "metadata": {},
   "outputs": [],
   "source": []
  }
 ],
 "metadata": {
  "kernelspec": {
   "display_name": "Python 3",
   "language": "python",
   "name": "python3"
  },
  "language_info": {
   "codemirror_mode": {
    "name": "ipython",
    "version": 3
   },
   "file_extension": ".py",
   "mimetype": "text/x-python",
   "name": "python",
   "nbconvert_exporter": "python",
   "pygments_lexer": "ipython3",
   "version": "3.6.3"
  }
 },
 "nbformat": 4,
 "nbformat_minor": 2
}
