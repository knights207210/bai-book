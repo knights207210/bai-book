{
 "cells": [
  {
   "cell_type": "markdown",
   "metadata": {},
   "source": [
    "# Lab - About Me"
   ]
  },
  {
   "cell_type": "markdown",
   "metadata": {},
   "source": [
    "## Tasks\n",
    "\n",
    "* [ ] Modify the personal introduction text.\n",
    "* [ ] Add text to My Background\n",
    "* [ ] Add an image to My Vacation\n",
    "* [ ] Add multiple images to My Favorite Dishes"
   ]
  },
  {
   "cell_type": "code",
   "execution_count": 1,
   "metadata": {},
   "outputs": [
    {
     "data": {
      "text/markdown": [
       "Hi! My name is __Xu Han__. I am currently pursuing __a PhD in Computer Science__."
      ],
      "text/plain": [
       "<IPython.core.display.Markdown object>"
      ]
     },
     "execution_count": 1,
     "metadata": {},
     "output_type": "execute_result"
    }
   ],
   "source": [
    "from IPython.display import Markdown as md\n",
    "\n",
    "# TODO: modify variables \n",
    "name = 'Xu Han'\n",
    "degree = 'a PhD in Computer Science'\n",
    "md(f'Hi! My name is __{name}__. I am currently pursuing __{degree}__.')"
   ]
  },
  {
   "cell_type": "markdown",
   "metadata": {},
   "source": [
    "## My Learning Objectives\n",
    "\n",
    "I am taking this course with the following objectives:\n",
    "* Objective 1\n",
    "* Objective 2\n",
    "* Objective 3 \n",
    "* Objective 4"
   ]
  },
  {
   "cell_type": "markdown",
   "metadata": {},
   "source": [
    "## My Background\n",
    "\n",
    "### Machine Learning\n",
    "TODO: write a short paragraph to tell us about experiences with machine learning.\n",
    "    \n",
    "### Neuroimaging\n",
    "TODO: write a short paragraph to tell us about your experiences with neuroimaging."
   ]
  },
  {
   "cell_type": "markdown",
   "metadata": {},
   "source": [
    "## My Vacation"
   ]
  },
  {
   "cell_type": "markdown",
   "metadata": {},
   "source": [
    "TODO: add markdown code to load a recent vacation photo of yours.\n",
    "![title of the image](todo.png)"
   ]
  },
  {
   "cell_type": "markdown",
   "metadata": {},
   "source": [
    "TODO: write a short paragraph to tell us more about this vacation trip."
   ]
  },
  {
   "cell_type": "markdown",
   "metadata": {},
   "source": [
    "## My Favorite Dishes"
   ]
  },
  {
   "cell_type": "code",
   "execution_count": 2,
   "metadata": {},
   "outputs": [
    {
     "data": {
      "text/markdown": [
       "![image](todo.png)![image](todo.png)![image](todo.png)"
      ],
      "text/plain": [
       "<IPython.core.display.Markdown object>"
      ]
     },
     "execution_count": 2,
     "metadata": {},
     "output_type": "execute_result"
    }
   ],
   "source": [
    "# TOOD: modify the code to display three images that represent your favorite dishes\n",
    "markdowntext = ''\n",
    "for filename in ['todo.png','todo.png','todo.png']:\n",
    "    markdowntext += f'![image]({filename})'\n",
    "md(markdowntext)"
   ]
  },
  {
   "cell_type": "code",
   "execution_count": null,
   "metadata": {},
   "outputs": [],
   "source": []
  }
 ],
 "metadata": {
  "kernelspec": {
   "display_name": "Python 3",
   "language": "python",
   "name": "python3"
  },
  "language_info": {
   "codemirror_mode": {
    "name": "ipython",
    "version": 3
   },
   "file_extension": ".py",
   "mimetype": "text/x-python",
   "name": "python",
   "nbconvert_exporter": "python",
   "pygments_lexer": "ipython3",
   "version": "3.6.3"
  }
 },
 "nbformat": 4,
 "nbformat_minor": 2
}
